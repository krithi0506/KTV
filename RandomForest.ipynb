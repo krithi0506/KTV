{
  "nbformat": 4,
  "nbformat_minor": 0,
  "metadata": {
    "colab": {
      "name": "Copy of RandomForest.ipynb",
      "provenance": [],
      "include_colab_link": true
    },
    "kernelspec": {
      "name": "python3",
      "display_name": "Python 3"
    },
    "language_info": {
      "name": "python"
    }
  },
  "cells": [
    {
      "cell_type": "markdown",
      "metadata": {
        "id": "view-in-github",
        "colab_type": "text"
      },
      "source": [
        "<a href=\"https://colab.research.google.com/github/krithi0506/KTV/blob/main/RandomForest.ipynb\" target=\"_parent\"><img src=\"https://colab.research.google.com/assets/colab-badge.svg\" alt=\"Open In Colab\"/></a>"
      ]
    },
    {
      "cell_type": "code",
      "metadata": {
        "id": "C5CbfgFnAx-R"
      },
      "source": [
        "#import libraries\n",
        "import numpy as np\n",
        "import pandas as pd\n",
        "import seaborn as sns"
      ],
      "execution_count": null,
      "outputs": []
    },
    {
      "cell_type": "code",
      "metadata": {
        "colab": {
          "resources": {
            "http://localhost:8080/nbextensions/google.colab/files.js": {
              "data": "Ly8gQ29weXJpZ2h0IDIwMTcgR29vZ2xlIExMQwovLwovLyBMaWNlbnNlZCB1bmRlciB0aGUgQXBhY2hlIExpY2Vuc2UsIFZlcnNpb24gMi4wICh0aGUgIkxpY2Vuc2UiKTsKLy8geW91IG1heSBub3QgdXNlIHRoaXMgZmlsZSBleGNlcHQgaW4gY29tcGxpYW5jZSB3aXRoIHRoZSBMaWNlbnNlLgovLyBZb3UgbWF5IG9idGFpbiBhIGNvcHkgb2YgdGhlIExpY2Vuc2UgYXQKLy8KLy8gICAgICBodHRwOi8vd3d3LmFwYWNoZS5vcmcvbGljZW5zZXMvTElDRU5TRS0yLjAKLy8KLy8gVW5sZXNzIHJlcXVpcmVkIGJ5IGFwcGxpY2FibGUgbGF3IG9yIGFncmVlZCB0byBpbiB3cml0aW5nLCBzb2Z0d2FyZQovLyBkaXN0cmlidXRlZCB1bmRlciB0aGUgTGljZW5zZSBpcyBkaXN0cmlidXRlZCBvbiBhbiAiQVMgSVMiIEJBU0lTLAovLyBXSVRIT1VUIFdBUlJBTlRJRVMgT1IgQ09ORElUSU9OUyBPRiBBTlkgS0lORCwgZWl0aGVyIGV4cHJlc3Mgb3IgaW1wbGllZC4KLy8gU2VlIHRoZSBMaWNlbnNlIGZvciB0aGUgc3BlY2lmaWMgbGFuZ3VhZ2UgZ292ZXJuaW5nIHBlcm1pc3Npb25zIGFuZAovLyBsaW1pdGF0aW9ucyB1bmRlciB0aGUgTGljZW5zZS4KCi8qKgogKiBAZmlsZW92ZXJ2aWV3IEhlbHBlcnMgZm9yIGdvb2dsZS5jb2xhYiBQeXRob24gbW9kdWxlLgogKi8KKGZ1bmN0aW9uKHNjb3BlKSB7CmZ1bmN0aW9uIHNwYW4odGV4dCwgc3R5bGVBdHRyaWJ1dGVzID0ge30pIHsKICBjb25zdCBlbGVtZW50ID0gZG9jdW1lbnQuY3JlYXRlRWxlbWVudCgnc3BhbicpOwogIGVsZW1lbnQudGV4dENvbnRlbnQgPSB0ZXh0OwogIGZvciAoY29uc3Qga2V5IG9mIE9iamVjdC5rZXlzKHN0eWxlQXR0cmlidXRlcykpIHsKICAgIGVsZW1lbnQuc3R5bGVba2V5XSA9IHN0eWxlQXR0cmlidXRlc1trZXldOwogIH0KICByZXR1cm4gZWxlbWVudDsKfQoKLy8gTWF4IG51bWJlciBvZiBieXRlcyB3aGljaCB3aWxsIGJlIHVwbG9hZGVkIGF0IGEgdGltZS4KY29uc3QgTUFYX1BBWUxPQURfU0laRSA9IDEwMCAqIDEwMjQ7CgpmdW5jdGlvbiBfdXBsb2FkRmlsZXMoaW5wdXRJZCwgb3V0cHV0SWQpIHsKICBjb25zdCBzdGVwcyA9IHVwbG9hZEZpbGVzU3RlcChpbnB1dElkLCBvdXRwdXRJZCk7CiAgY29uc3Qgb3V0cHV0RWxlbWVudCA9IGRvY3VtZW50LmdldEVsZW1lbnRCeUlkKG91dHB1dElkKTsKICAvLyBDYWNoZSBzdGVwcyBvbiB0aGUgb3V0cHV0RWxlbWVudCB0byBtYWtlIGl0IGF2YWlsYWJsZSBmb3IgdGhlIG5leHQgY2FsbAogIC8vIHRvIHVwbG9hZEZpbGVzQ29udGludWUgZnJvbSBQeXRob24uCiAgb3V0cHV0RWxlbWVudC5zdGVwcyA9IHN0ZXBzOwoKICByZXR1cm4gX3VwbG9hZEZpbGVzQ29udGludWUob3V0cHV0SWQpOwp9CgovLyBUaGlzIGlzIHJvdWdobHkgYW4gYXN5bmMgZ2VuZXJhdG9yIChub3Qgc3VwcG9ydGVkIGluIHRoZSBicm93c2VyIHlldCksCi8vIHdoZXJlIHRoZXJlIGFyZSBtdWx0aXBsZSBhc3luY2hyb25vdXMgc3RlcHMgYW5kIHRoZSBQeXRob24gc2lkZSBpcyBnb2luZwovLyB0byBwb2xsIGZvciBjb21wbGV0aW9uIG9mIGVhY2ggc3RlcC4KLy8gVGhpcyB1c2VzIGEgUHJvbWlzZSB0byBibG9jayB0aGUgcHl0aG9uIHNpZGUgb24gY29tcGxldGlvbiBvZiBlYWNoIHN0ZXAsCi8vIHRoZW4gcGFzc2VzIHRoZSByZXN1bHQgb2YgdGhlIHByZXZpb3VzIHN0ZXAgYXMgdGhlIGlucHV0IHRvIHRoZSBuZXh0IHN0ZXAuCmZ1bmN0aW9uIF91cGxvYWRGaWxlc0NvbnRpbnVlKG91dHB1dElkKSB7CiAgY29uc3Qgb3V0cHV0RWxlbWVudCA9IGRvY3VtZW50LmdldEVsZW1lbnRCeUlkKG91dHB1dElkKTsKICBjb25zdCBzdGVwcyA9IG91dHB1dEVsZW1lbnQuc3RlcHM7CgogIGNvbnN0IG5leHQgPSBzdGVwcy5uZXh0KG91dHB1dEVsZW1lbnQubGFzdFByb21pc2VWYWx1ZSk7CiAgcmV0dXJuIFByb21pc2UucmVzb2x2ZShuZXh0LnZhbHVlLnByb21pc2UpLnRoZW4oKHZhbHVlKSA9PiB7CiAgICAvLyBDYWNoZSB0aGUgbGFzdCBwcm9taXNlIHZhbHVlIHRvIG1ha2UgaXQgYXZhaWxhYmxlIHRvIHRoZSBuZXh0CiAgICAvLyBzdGVwIG9mIHRoZSBnZW5lcmF0b3IuCiAgICBvdXRwdXRFbGVtZW50Lmxhc3RQcm9taXNlVmFsdWUgPSB2YWx1ZTsKICAgIHJldHVybiBuZXh0LnZhbHVlLnJlc3BvbnNlOwogIH0pOwp9CgovKioKICogR2VuZXJhdG9yIGZ1bmN0aW9uIHdoaWNoIGlzIGNhbGxlZCBiZXR3ZWVuIGVhY2ggYXN5bmMgc3RlcCBvZiB0aGUgdXBsb2FkCiAqIHByb2Nlc3MuCiAqIEBwYXJhbSB7c3RyaW5nfSBpbnB1dElkIEVsZW1lbnQgSUQgb2YgdGhlIGlucHV0IGZpbGUgcGlja2VyIGVsZW1lbnQuCiAqIEBwYXJhbSB7c3RyaW5nfSBvdXRwdXRJZCBFbGVtZW50IElEIG9mIHRoZSBvdXRwdXQgZGlzcGxheS4KICogQHJldHVybiB7IUl0ZXJhYmxlPCFPYmplY3Q+fSBJdGVyYWJsZSBvZiBuZXh0IHN0ZXBzLgogKi8KZnVuY3Rpb24qIHVwbG9hZEZpbGVzU3RlcChpbnB1dElkLCBvdXRwdXRJZCkgewogIGNvbnN0IGlucHV0RWxlbWVudCA9IGRvY3VtZW50LmdldEVsZW1lbnRCeUlkKGlucHV0SWQpOwogIGlucHV0RWxlbWVudC5kaXNhYmxlZCA9IGZhbHNlOwoKICBjb25zdCBvdXRwdXRFbGVtZW50ID0gZG9jdW1lbnQuZ2V0RWxlbWVudEJ5SWQob3V0cHV0SWQpOwogIG91dHB1dEVsZW1lbnQuaW5uZXJIVE1MID0gJyc7CgogIGNvbnN0IHBpY2tlZFByb21pc2UgPSBuZXcgUHJvbWlzZSgocmVzb2x2ZSkgPT4gewogICAgaW5wdXRFbGVtZW50LmFkZEV2ZW50TGlzdGVuZXIoJ2NoYW5nZScsIChlKSA9PiB7CiAgICAgIHJlc29sdmUoZS50YXJnZXQuZmlsZXMpOwogICAgfSk7CiAgfSk7CgogIGNvbnN0IGNhbmNlbCA9IGRvY3VtZW50LmNyZWF0ZUVsZW1lbnQoJ2J1dHRvbicpOwogIGlucHV0RWxlbWVudC5wYXJlbnRFbGVtZW50LmFwcGVuZENoaWxkKGNhbmNlbCk7CiAgY2FuY2VsLnRleHRDb250ZW50ID0gJ0NhbmNlbCB1cGxvYWQnOwogIGNvbnN0IGNhbmNlbFByb21pc2UgPSBuZXcgUHJvbWlzZSgocmVzb2x2ZSkgPT4gewogICAgY2FuY2VsLm9uY2xpY2sgPSAoKSA9PiB7CiAgICAgIHJlc29sdmUobnVsbCk7CiAgICB9OwogIH0pOwoKICAvLyBXYWl0IGZvciB0aGUgdXNlciB0byBwaWNrIHRoZSBmaWxlcy4KICBjb25zdCBmaWxlcyA9IHlpZWxkIHsKICAgIHByb21pc2U6IFByb21pc2UucmFjZShbcGlja2VkUHJvbWlzZSwgY2FuY2VsUHJvbWlzZV0pLAogICAgcmVzcG9uc2U6IHsKICAgICAgYWN0aW9uOiAnc3RhcnRpbmcnLAogICAgfQogIH07CgogIGNhbmNlbC5yZW1vdmUoKTsKCiAgLy8gRGlzYWJsZSB0aGUgaW5wdXQgZWxlbWVudCBzaW5jZSBmdXJ0aGVyIHBpY2tzIGFyZSBub3QgYWxsb3dlZC4KICBpbnB1dEVsZW1lbnQuZGlzYWJsZWQgPSB0cnVlOwoKICBpZiAoIWZpbGVzKSB7CiAgICByZXR1cm4gewogICAgICByZXNwb25zZTogewogICAgICAgIGFjdGlvbjogJ2NvbXBsZXRlJywKICAgICAgfQogICAgfTsKICB9CgogIGZvciAoY29uc3QgZmlsZSBvZiBmaWxlcykgewogICAgY29uc3QgbGkgPSBkb2N1bWVudC5jcmVhdGVFbGVtZW50KCdsaScpOwogICAgbGkuYXBwZW5kKHNwYW4oZmlsZS5uYW1lLCB7Zm9udFdlaWdodDogJ2JvbGQnfSkpOwogICAgbGkuYXBwZW5kKHNwYW4oCiAgICAgICAgYCgke2ZpbGUudHlwZSB8fCAnbi9hJ30pIC0gJHtmaWxlLnNpemV9IGJ5dGVzLCBgICsKICAgICAgICBgbGFzdCBtb2RpZmllZDogJHsKICAgICAgICAgICAgZmlsZS5sYXN0TW9kaWZpZWREYXRlID8gZmlsZS5sYXN0TW9kaWZpZWREYXRlLnRvTG9jYWxlRGF0ZVN0cmluZygpIDoKICAgICAgICAgICAgICAgICAgICAgICAgICAgICAgICAgICAgJ24vYSd9IC0gYCkpOwogICAgY29uc3QgcGVyY2VudCA9IHNwYW4oJzAlIGRvbmUnKTsKICAgIGxpLmFwcGVuZENoaWxkKHBlcmNlbnQpOwoKICAgIG91dHB1dEVsZW1lbnQuYXBwZW5kQ2hpbGQobGkpOwoKICAgIGNvbnN0IGZpbGVEYXRhUHJvbWlzZSA9IG5ldyBQcm9taXNlKChyZXNvbHZlKSA9PiB7CiAgICAgIGNvbnN0IHJlYWRlciA9IG5ldyBGaWxlUmVhZGVyKCk7CiAgICAgIHJlYWRlci5vbmxvYWQgPSAoZSkgPT4gewogICAgICAgIHJlc29sdmUoZS50YXJnZXQucmVzdWx0KTsKICAgICAgfTsKICAgICAgcmVhZGVyLnJlYWRBc0FycmF5QnVmZmVyKGZpbGUpOwogICAgfSk7CiAgICAvLyBXYWl0IGZvciB0aGUgZGF0YSB0byBiZSByZWFkeS4KICAgIGxldCBmaWxlRGF0YSA9IHlpZWxkIHsKICAgICAgcHJvbWlzZTogZmlsZURhdGFQcm9taXNlLAogICAgICByZXNwb25zZTogewogICAgICAgIGFjdGlvbjogJ2NvbnRpbnVlJywKICAgICAgfQogICAgfTsKCiAgICAvLyBVc2UgYSBjaHVua2VkIHNlbmRpbmcgdG8gYXZvaWQgbWVzc2FnZSBzaXplIGxpbWl0cy4gU2VlIGIvNjIxMTU2NjAuCiAgICBsZXQgcG9zaXRpb24gPSAwOwogICAgd2hpbGUgKHBvc2l0aW9uIDwgZmlsZURhdGEuYnl0ZUxlbmd0aCkgewogICAgICBjb25zdCBsZW5ndGggPSBNYXRoLm1pbihmaWxlRGF0YS5ieXRlTGVuZ3RoIC0gcG9zaXRpb24sIE1BWF9QQVlMT0FEX1NJWkUpOwogICAgICBjb25zdCBjaHVuayA9IG5ldyBVaW50OEFycmF5KGZpbGVEYXRhLCBwb3NpdGlvbiwgbGVuZ3RoKTsKICAgICAgcG9zaXRpb24gKz0gbGVuZ3RoOwoKICAgICAgY29uc3QgYmFzZTY0ID0gYnRvYShTdHJpbmcuZnJvbUNoYXJDb2RlLmFwcGx5KG51bGwsIGNodW5rKSk7CiAgICAgIHlpZWxkIHsKICAgICAgICByZXNwb25zZTogewogICAgICAgICAgYWN0aW9uOiAnYXBwZW5kJywKICAgICAgICAgIGZpbGU6IGZpbGUubmFtZSwKICAgICAgICAgIGRhdGE6IGJhc2U2NCwKICAgICAgICB9LAogICAgICB9OwogICAgICBwZXJjZW50LnRleHRDb250ZW50ID0KICAgICAgICAgIGAke01hdGgucm91bmQoKHBvc2l0aW9uIC8gZmlsZURhdGEuYnl0ZUxlbmd0aCkgKiAxMDApfSUgZG9uZWA7CiAgICB9CiAgfQoKICAvLyBBbGwgZG9uZS4KICB5aWVsZCB7CiAgICByZXNwb25zZTogewogICAgICBhY3Rpb246ICdjb21wbGV0ZScsCiAgICB9CiAgfTsKfQoKc2NvcGUuZ29vZ2xlID0gc2NvcGUuZ29vZ2xlIHx8IHt9OwpzY29wZS5nb29nbGUuY29sYWIgPSBzY29wZS5nb29nbGUuY29sYWIgfHwge307CnNjb3BlLmdvb2dsZS5jb2xhYi5fZmlsZXMgPSB7CiAgX3VwbG9hZEZpbGVzLAogIF91cGxvYWRGaWxlc0NvbnRpbnVlLAp9Owp9KShzZWxmKTsK",
              "ok": true,
              "headers": [
                [
                  "content-type",
                  "application/javascript"
                ]
              ],
              "status": 200,
              "status_text": ""
            }
          },
          "base_uri": "https://localhost:8080/",
          "height": 73
        },
        "id": "vbHLidFuBBDn",
        "outputId": "327d7596-90ab-49be-97eb-923a3cb8715c"
      },
      "source": [
        "#load the data\n",
        "from google.colab import files\n",
        "uploaded=files.upload()"
      ],
      "execution_count": null,
      "outputs": [
        {
          "output_type": "display_data",
          "data": {
            "text/html": [
              "\n",
              "     <input type=\"file\" id=\"files-7b8af617-9d01-4689-97d6-3b89f6386a67\" name=\"files[]\" multiple disabled\n",
              "        style=\"border:none\" />\n",
              "     <output id=\"result-7b8af617-9d01-4689-97d6-3b89f6386a67\">\n",
              "      Upload widget is only available when the cell has been executed in the\n",
              "      current browser session. Please rerun this cell to enable.\n",
              "      </output>\n",
              "      <script src=\"/nbextensions/google.colab/files.js\"></script> "
            ],
            "text/plain": [
              "<IPython.core.display.HTML object>"
            ]
          },
          "metadata": {
            "tags": []
          }
        },
        {
          "output_type": "stream",
          "text": [
            "Saving implementation.csv to implementation.csv\n"
          ],
          "name": "stdout"
        }
      ]
    },
    {
      "cell_type": "code",
      "metadata": {
        "colab": {
          "base_uri": "https://localhost:8080/",
          "height": 277
        },
        "id": "0ilDfxf5BYtD",
        "outputId": "1462d245-6941-4427-eef9-c1ff013bb711"
      },
      "source": [
        "df=pd.read_csv('implementation.csv')\n",
        "df.head(7)"
      ],
      "execution_count": null,
      "outputs": [
        {
          "output_type": "execute_result",
          "data": {
            "text/html": [
              "<div>\n",
              "<style scoped>\n",
              "    .dataframe tbody tr th:only-of-type {\n",
              "        vertical-align: middle;\n",
              "    }\n",
              "\n",
              "    .dataframe tbody tr th {\n",
              "        vertical-align: top;\n",
              "    }\n",
              "\n",
              "    .dataframe thead th {\n",
              "        text-align: right;\n",
              "    }\n",
              "</style>\n",
              "<table border=\"1\" class=\"dataframe\">\n",
              "  <thead>\n",
              "    <tr style=\"text-align: right;\">\n",
              "      <th></th>\n",
              "      <th>ID</th>\n",
              "      <th>CC_area</th>\n",
              "      <th>CC_perimeter</th>\n",
              "      <th>CC_circularity</th>\n",
              "      <th>CC_length</th>\n",
              "      <th>W1</th>\n",
              "      <th>W2</th>\n",
              "      <th>W3</th>\n",
              "      <th>W4</th>\n",
              "      <th>W5</th>\n",
              "      <th>W6</th>\n",
              "      <th>W7</th>\n",
              "      <th>GROUP</th>\n",
              "    </tr>\n",
              "  </thead>\n",
              "  <tbody>\n",
              "    <tr>\n",
              "      <th>0</th>\n",
              "      <td>./Caltech/0051456/session_1/anat_1/abide_cc</td>\n",
              "      <td>646.25</td>\n",
              "      <td>208.77</td>\n",
              "      <td>0.186321</td>\n",
              "      <td>72.5</td>\n",
              "      <td>13.00</td>\n",
              "      <td>139.75</td>\n",
              "      <td>88.75</td>\n",
              "      <td>84.25</td>\n",
              "      <td>58.50</td>\n",
              "      <td>50.50</td>\n",
              "      <td>211.50</td>\n",
              "      <td>1</td>\n",
              "    </tr>\n",
              "    <tr>\n",
              "      <th>1</th>\n",
              "      <td>./Caltech/0051457/session_1/anat_1/abide_cc</td>\n",
              "      <td>638.50</td>\n",
              "      <td>216.94</td>\n",
              "      <td>0.170480</td>\n",
              "      <td>79.5</td>\n",
              "      <td>26.50</td>\n",
              "      <td>161.75</td>\n",
              "      <td>94.25</td>\n",
              "      <td>70.00</td>\n",
              "      <td>54.00</td>\n",
              "      <td>56.75</td>\n",
              "      <td>175.25</td>\n",
              "      <td>1</td>\n",
              "    </tr>\n",
              "    <tr>\n",
              "      <th>2</th>\n",
              "      <td>./Caltech/0051458/session_1/anat_1/abide_cc</td>\n",
              "      <td>610.75</td>\n",
              "      <td>205.70</td>\n",
              "      <td>0.181383</td>\n",
              "      <td>75.5</td>\n",
              "      <td>8.50</td>\n",
              "      <td>118.75</td>\n",
              "      <td>103.25</td>\n",
              "      <td>68.75</td>\n",
              "      <td>63.50</td>\n",
              "      <td>57.00</td>\n",
              "      <td>191.00</td>\n",
              "      <td>1</td>\n",
              "    </tr>\n",
              "    <tr>\n",
              "      <th>3</th>\n",
              "      <td>./Caltech/0051459/session_1/anat_1/abide_cc</td>\n",
              "      <td>649.00</td>\n",
              "      <td>213.80</td>\n",
              "      <td>0.178414</td>\n",
              "      <td>78.5</td>\n",
              "      <td>30.25</td>\n",
              "      <td>151.25</td>\n",
              "      <td>99.25</td>\n",
              "      <td>64.25</td>\n",
              "      <td>44.50</td>\n",
              "      <td>55.25</td>\n",
              "      <td>204.25</td>\n",
              "      <td>1</td>\n",
              "    </tr>\n",
              "    <tr>\n",
              "      <th>4</th>\n",
              "      <td>./Caltech/0051460/session_1/anat_1/abide_cc</td>\n",
              "      <td>633.75</td>\n",
              "      <td>203.80</td>\n",
              "      <td>0.191738</td>\n",
              "      <td>68.5</td>\n",
              "      <td>36.00</td>\n",
              "      <td>135.75</td>\n",
              "      <td>85.75</td>\n",
              "      <td>72.00</td>\n",
              "      <td>63.50</td>\n",
              "      <td>50.75</td>\n",
              "      <td>190.00</td>\n",
              "      <td>1</td>\n",
              "    </tr>\n",
              "    <tr>\n",
              "      <th>5</th>\n",
              "      <td>./Caltech/0051461/session_1/anat_1/abide_cc</td>\n",
              "      <td>404.75</td>\n",
              "      <td>192.56</td>\n",
              "      <td>0.137172</td>\n",
              "      <td>68.5</td>\n",
              "      <td>25.75</td>\n",
              "      <td>80.00</td>\n",
              "      <td>75.50</td>\n",
              "      <td>55.75</td>\n",
              "      <td>49.25</td>\n",
              "      <td>29.75</td>\n",
              "      <td>88.75</td>\n",
              "      <td>1</td>\n",
              "    </tr>\n",
              "    <tr>\n",
              "      <th>6</th>\n",
              "      <td>./Caltech/0051462/session_1/anat_1/abide_cc</td>\n",
              "      <td>787.00</td>\n",
              "      <td>225.29</td>\n",
              "      <td>0.194854</td>\n",
              "      <td>79.5</td>\n",
              "      <td>39.25</td>\n",
              "      <td>163.50</td>\n",
              "      <td>120.75</td>\n",
              "      <td>89.25</td>\n",
              "      <td>78.25</td>\n",
              "      <td>67.00</td>\n",
              "      <td>229.00</td>\n",
              "      <td>1</td>\n",
              "    </tr>\n",
              "  </tbody>\n",
              "</table>\n",
              "</div>"
            ],
            "text/plain": [
              "                                            ID   CC_area  ...      W7  GROUP\n",
              "0  ./Caltech/0051456/session_1/anat_1/abide_cc    646.25  ...  211.50      1\n",
              "1  ./Caltech/0051457/session_1/anat_1/abide_cc    638.50  ...  175.25      1\n",
              "2  ./Caltech/0051458/session_1/anat_1/abide_cc    610.75  ...  191.00      1\n",
              "3  ./Caltech/0051459/session_1/anat_1/abide_cc    649.00  ...  204.25      1\n",
              "4  ./Caltech/0051460/session_1/anat_1/abide_cc    633.75  ...  190.00      1\n",
              "5  ./Caltech/0051461/session_1/anat_1/abide_cc    404.75  ...   88.75      1\n",
              "6  ./Caltech/0051462/session_1/anat_1/abide_cc    787.00  ...  229.00      1\n",
              "\n",
              "[7 rows x 13 columns]"
            ]
          },
          "metadata": {
            "tags": []
          },
          "execution_count": 4
        }
      ]
    },
    {
      "cell_type": "code",
      "metadata": {
        "colab": {
          "base_uri": "https://localhost:8080/"
        },
        "id": "RQj6MqX_B332",
        "outputId": "06f33fa3-138b-4151-f99e-64a53acac6be"
      },
      "source": [
        "#get the shape of the data\n",
        "df.shape"
      ],
      "execution_count": null,
      "outputs": [
        {
          "output_type": "execute_result",
          "data": {
            "text/plain": [
              "(1100, 13)"
            ]
          },
          "metadata": {
            "tags": []
          },
          "execution_count": 5
        }
      ]
    },
    {
      "cell_type": "code",
      "metadata": {
        "colab": {
          "base_uri": "https://localhost:8080/"
        },
        "id": "FaIxZ6InCb1_",
        "outputId": "9a0670e7-d20e-4193-dcbb-22a37fbce385"
      },
      "source": [
        "#count the empty values in each column\n",
        "df.isna().sum()"
      ],
      "execution_count": null,
      "outputs": [
        {
          "output_type": "execute_result",
          "data": {
            "text/plain": [
              "ID                 0\n",
              " CC_area           0\n",
              " CC_perimeter      0\n",
              " CC_circularity    0\n",
              " CC_length         0\n",
              " W1                0\n",
              " W2                0\n",
              " W3                0\n",
              " W4                0\n",
              " W5                0\n",
              " W6                0\n",
              " W7                0\n",
              "GROUP              0\n",
              "dtype: int64"
            ]
          },
          "metadata": {
            "tags": []
          },
          "execution_count": 6
        }
      ]
    },
    {
      "cell_type": "code",
      "metadata": {
        "colab": {
          "base_uri": "https://localhost:8080/"
        },
        "id": "nH6GvpbuCofH",
        "outputId": "59416ceb-acdf-4a98-8f8f-97855b7f9c25"
      },
      "source": [
        "df.isnull().values.any()"
      ],
      "execution_count": null,
      "outputs": [
        {
          "output_type": "execute_result",
          "data": {
            "text/plain": [
              "False"
            ]
          },
          "metadata": {
            "tags": []
          },
          "execution_count": 8
        }
      ]
    },
    {
      "cell_type": "code",
      "metadata": {
        "colab": {
          "base_uri": "https://localhost:8080/",
          "height": 307
        },
        "id": "TtKK0tEGC1C8",
        "outputId": "f34b3169-19d3-4357-dfc1-1b1acb86813a"
      },
      "source": [
        "#view some basic statistics\n",
        "df.describe()"
      ],
      "execution_count": null,
      "outputs": [
        {
          "output_type": "execute_result",
          "data": {
            "text/html": [
              "<div>\n",
              "<style scoped>\n",
              "    .dataframe tbody tr th:only-of-type {\n",
              "        vertical-align: middle;\n",
              "    }\n",
              "\n",
              "    .dataframe tbody tr th {\n",
              "        vertical-align: top;\n",
              "    }\n",
              "\n",
              "    .dataframe thead th {\n",
              "        text-align: right;\n",
              "    }\n",
              "</style>\n",
              "<table border=\"1\" class=\"dataframe\">\n",
              "  <thead>\n",
              "    <tr style=\"text-align: right;\">\n",
              "      <th></th>\n",
              "      <th>CC_area</th>\n",
              "      <th>CC_perimeter</th>\n",
              "      <th>CC_circularity</th>\n",
              "      <th>CC_length</th>\n",
              "      <th>W1</th>\n",
              "      <th>W2</th>\n",
              "      <th>W3</th>\n",
              "      <th>W4</th>\n",
              "      <th>W5</th>\n",
              "      <th>W6</th>\n",
              "      <th>W7</th>\n",
              "      <th>GROUP</th>\n",
              "    </tr>\n",
              "  </thead>\n",
              "  <tbody>\n",
              "    <tr>\n",
              "      <th>count</th>\n",
              "      <td>1100.000000</td>\n",
              "      <td>1100.000000</td>\n",
              "      <td>1100.000000</td>\n",
              "      <td>1100.000000</td>\n",
              "      <td>1100.000000</td>\n",
              "      <td>1100.000000</td>\n",
              "      <td>1100.000000</td>\n",
              "      <td>1100.000000</td>\n",
              "      <td>1100.000000</td>\n",
              "      <td>1100.000000</td>\n",
              "      <td>1100.000000</td>\n",
              "      <td>1100.000000</td>\n",
              "    </tr>\n",
              "    <tr>\n",
              "      <th>mean</th>\n",
              "      <td>596.776136</td>\n",
              "      <td>197.220936</td>\n",
              "      <td>0.192353</td>\n",
              "      <td>70.644545</td>\n",
              "      <td>20.823182</td>\n",
              "      <td>128.820455</td>\n",
              "      <td>91.398636</td>\n",
              "      <td>69.531818</td>\n",
              "      <td>59.221818</td>\n",
              "      <td>51.984318</td>\n",
              "      <td>174.996136</td>\n",
              "      <td>1.518182</td>\n",
              "    </tr>\n",
              "    <tr>\n",
              "      <th>std</th>\n",
              "      <td>106.393394</td>\n",
              "      <td>16.811514</td>\n",
              "      <td>0.021463</td>\n",
              "      <td>5.500229</td>\n",
              "      <td>12.714564</td>\n",
              "      <td>32.883665</td>\n",
              "      <td>19.737093</td>\n",
              "      <td>13.561574</td>\n",
              "      <td>12.087098</td>\n",
              "      <td>12.902119</td>\n",
              "      <td>33.416525</td>\n",
              "      <td>0.499897</td>\n",
              "    </tr>\n",
              "    <tr>\n",
              "      <th>min</th>\n",
              "      <td>313.500000</td>\n",
              "      <td>154.450000</td>\n",
              "      <td>0.113354</td>\n",
              "      <td>53.500000</td>\n",
              "      <td>0.250000</td>\n",
              "      <td>0.000000</td>\n",
              "      <td>45.250000</td>\n",
              "      <td>31.500000</td>\n",
              "      <td>27.500000</td>\n",
              "      <td>21.000000</td>\n",
              "      <td>80.750000</td>\n",
              "      <td>1.000000</td>\n",
              "    </tr>\n",
              "    <tr>\n",
              "      <th>25%</th>\n",
              "      <td>523.187500</td>\n",
              "      <td>184.887500</td>\n",
              "      <td>0.178223</td>\n",
              "      <td>66.500000</td>\n",
              "      <td>14.000000</td>\n",
              "      <td>110.750000</td>\n",
              "      <td>77.937500</td>\n",
              "      <td>59.937500</td>\n",
              "      <td>50.750000</td>\n",
              "      <td>42.750000</td>\n",
              "      <td>151.250000</td>\n",
              "      <td>1.000000</td>\n",
              "    </tr>\n",
              "    <tr>\n",
              "      <th>50%</th>\n",
              "      <td>588.875000</td>\n",
              "      <td>196.610000</td>\n",
              "      <td>0.191393</td>\n",
              "      <td>70.500000</td>\n",
              "      <td>19.000000</td>\n",
              "      <td>127.250000</td>\n",
              "      <td>89.625000</td>\n",
              "      <td>68.750000</td>\n",
              "      <td>58.250000</td>\n",
              "      <td>50.250000</td>\n",
              "      <td>173.125000</td>\n",
              "      <td>2.000000</td>\n",
              "    </tr>\n",
              "    <tr>\n",
              "      <th>75%</th>\n",
              "      <td>664.500000</td>\n",
              "      <td>208.000000</td>\n",
              "      <td>0.207030</td>\n",
              "      <td>74.500000</td>\n",
              "      <td>25.000000</td>\n",
              "      <td>148.500000</td>\n",
              "      <td>102.500000</td>\n",
              "      <td>77.500000</td>\n",
              "      <td>66.562500</td>\n",
              "      <td>59.500000</td>\n",
              "      <td>196.062500</td>\n",
              "      <td>2.000000</td>\n",
              "    </tr>\n",
              "    <tr>\n",
              "      <th>max</th>\n",
              "      <td>1023.750000</td>\n",
              "      <td>263.330000</td>\n",
              "      <td>0.264734</td>\n",
              "      <td>90.500000</td>\n",
              "      <td>150.250000</td>\n",
              "      <td>275.750000</td>\n",
              "      <td>219.000000</td>\n",
              "      <td>124.500000</td>\n",
              "      <td>106.250000</td>\n",
              "      <td>105.500000</td>\n",
              "      <td>314.250000</td>\n",
              "      <td>2.000000</td>\n",
              "    </tr>\n",
              "  </tbody>\n",
              "</table>\n",
              "</div>"
            ],
            "text/plain": [
              "           CC_area   CC_perimeter  ...           W7        GROUP\n",
              "count  1100.000000    1100.000000  ...  1100.000000  1100.000000\n",
              "mean    596.776136     197.220936  ...   174.996136     1.518182\n",
              "std     106.393394      16.811514  ...    33.416525     0.499897\n",
              "min     313.500000     154.450000  ...    80.750000     1.000000\n",
              "25%     523.187500     184.887500  ...   151.250000     1.000000\n",
              "50%     588.875000     196.610000  ...   173.125000     2.000000\n",
              "75%     664.500000     208.000000  ...   196.062500     2.000000\n",
              "max    1023.750000     263.330000  ...   314.250000     2.000000\n",
              "\n",
              "[8 rows x 12 columns]"
            ]
          },
          "metadata": {
            "tags": []
          },
          "execution_count": 9
        }
      ]
    },
    {
      "cell_type": "code",
      "metadata": {
        "colab": {
          "base_uri": "https://localhost:8080/"
        },
        "id": "CAB2j3anDAbg",
        "outputId": "9848e53b-2690-4dc6-9ad0-178b668d149f"
      },
      "source": [
        "#Get a count of children with autism and without autism\n",
        "df['GROUP'].value_counts()"
      ],
      "execution_count": null,
      "outputs": [
        {
          "output_type": "execute_result",
          "data": {
            "text/plain": [
              "2    570\n",
              "1    530\n",
              "Name: GROUP, dtype: int64"
            ]
          },
          "metadata": {
            "tags": []
          },
          "execution_count": 11
        }
      ]
    },
    {
      "cell_type": "code",
      "metadata": {
        "colab": {
          "base_uri": "https://localhost:8080/",
          "height": 352
        },
        "id": "FGj2JAxsD4fO",
        "outputId": "2a2a62dc-2b86-4fef-fbe8-0c00d8ccfd4c"
      },
      "source": [
        "#visualize the count\n",
        "sns.countplot(df['GROUP'])"
      ],
      "execution_count": null,
      "outputs": [
        {
          "output_type": "stream",
          "text": [
            "/usr/local/lib/python3.7/dist-packages/seaborn/_decorators.py:43: FutureWarning: Pass the following variable as a keyword arg: x. From version 0.12, the only valid positional argument will be `data`, and passing other arguments without an explicit keyword will result in an error or misinterpretation.\n",
            "  FutureWarning\n"
          ],
          "name": "stderr"
        },
        {
          "output_type": "execute_result",
          "data": {
            "text/plain": [
              "<matplotlib.axes._subplots.AxesSubplot at 0x7f4dc2b3cad0>"
            ]
          },
          "metadata": {
            "tags": []
          },
          "execution_count": 13
        },
        {
          "output_type": "display_data",
          "data": {
            "image/png": "[encoded data removed]",
            "text/plain": [
              "<Figure size 432x288 with 1 Axes>"
            ]
          },
          "metadata": {
            "tags": [],
            "needs_background": "light"
          }
        }
      ]
    },
    {
      "cell_type": "code",
      "metadata": {
        "colab": {
          "base_uri": "https://localhost:8080/",
          "height": 427
        },
        "id": "YMIfbqvDENom",
        "outputId": "328ef1c9-11aa-4a8b-b8cd-49282f3c8925"
      },
      "source": [
        "#get the correlation\n",
        "df.corr()"
      ],
      "execution_count": null,
      "outputs": [
        {
          "output_type": "execute_result",
          "data": {
            "text/html": [
              "<div>\n",
              "<style scoped>\n",
              "    .dataframe tbody tr th:only-of-type {\n",
              "        vertical-align: middle;\n",
              "    }\n",
              "\n",
              "    .dataframe tbody tr th {\n",
              "        vertical-align: top;\n",
              "    }\n",
              "\n",
              "    .dataframe thead th {\n",
              "        text-align: right;\n",
              "    }\n",
              "</style>\n",
              "<table border=\"1\" class=\"dataframe\">\n",
              "  <thead>\n",
              "    <tr style=\"text-align: right;\">\n",
              "      <th></th>\n",
              "      <th>CC_area</th>\n",
              "      <th>CC_perimeter</th>\n",
              "      <th>CC_circularity</th>\n",
              "      <th>CC_length</th>\n",
              "      <th>W1</th>\n",
              "      <th>W2</th>\n",
              "      <th>W3</th>\n",
              "      <th>W4</th>\n",
              "      <th>W5</th>\n",
              "      <th>W6</th>\n",
              "      <th>W7</th>\n",
              "      <th>GROUP</th>\n",
              "    </tr>\n",
              "  </thead>\n",
              "  <tbody>\n",
              "    <tr>\n",
              "      <th>CC_area</th>\n",
              "      <td>1.000000</td>\n",
              "      <td>0.787921</td>\n",
              "      <td>0.388335</td>\n",
              "      <td>0.710320</td>\n",
              "      <td>0.365278</td>\n",
              "      <td>0.741684</td>\n",
              "      <td>0.702518</td>\n",
              "      <td>0.891100</td>\n",
              "      <td>0.866237</td>\n",
              "      <td>0.848235</td>\n",
              "      <td>0.897618</td>\n",
              "      <td>-0.003219</td>\n",
              "    </tr>\n",
              "    <tr>\n",
              "      <th>CC_perimeter</th>\n",
              "      <td>0.787921</td>\n",
              "      <td>1.000000</td>\n",
              "      <td>-0.251789</td>\n",
              "      <td>0.888800</td>\n",
              "      <td>0.476855</td>\n",
              "      <td>0.429769</td>\n",
              "      <td>0.685492</td>\n",
              "      <td>0.656166</td>\n",
              "      <td>0.654255</td>\n",
              "      <td>0.588087</td>\n",
              "      <td>0.769404</td>\n",
              "      <td>-0.051854</td>\n",
              "    </tr>\n",
              "    <tr>\n",
              "      <th>CC_circularity</th>\n",
              "      <td>0.388335</td>\n",
              "      <td>-0.251789</td>\n",
              "      <td>1.000000</td>\n",
              "      <td>-0.220006</td>\n",
              "      <td>-0.133320</td>\n",
              "      <td>0.516957</td>\n",
              "      <td>0.073205</td>\n",
              "      <td>0.413815</td>\n",
              "      <td>0.376962</td>\n",
              "      <td>0.439766</td>\n",
              "      <td>0.261083</td>\n",
              "      <td>0.073404</td>\n",
              "    </tr>\n",
              "    <tr>\n",
              "      <th>CC_length</th>\n",
              "      <td>0.710320</td>\n",
              "      <td>0.888800</td>\n",
              "      <td>-0.220006</td>\n",
              "      <td>1.000000</td>\n",
              "      <td>0.316229</td>\n",
              "      <td>0.422234</td>\n",
              "      <td>0.599240</td>\n",
              "      <td>0.651035</td>\n",
              "      <td>0.596483</td>\n",
              "      <td>0.534730</td>\n",
              "      <td>0.685390</td>\n",
              "      <td>-0.012705</td>\n",
              "    </tr>\n",
              "    <tr>\n",
              "      <th>W1</th>\n",
              "      <td>0.365278</td>\n",
              "      <td>0.476855</td>\n",
              "      <td>-0.133320</td>\n",
              "      <td>0.316229</td>\n",
              "      <td>1.000000</td>\n",
              "      <td>-0.063093</td>\n",
              "      <td>0.407287</td>\n",
              "      <td>0.268123</td>\n",
              "      <td>0.281587</td>\n",
              "      <td>0.264042</td>\n",
              "      <td>0.291421</td>\n",
              "      <td>-0.005864</td>\n",
              "    </tr>\n",
              "    <tr>\n",
              "      <th>W2</th>\n",
              "      <td>0.741684</td>\n",
              "      <td>0.429769</td>\n",
              "      <td>0.516957</td>\n",
              "      <td>0.422234</td>\n",
              "      <td>-0.063093</td>\n",
              "      <td>1.000000</td>\n",
              "      <td>0.239147</td>\n",
              "      <td>0.663068</td>\n",
              "      <td>0.602302</td>\n",
              "      <td>0.550079</td>\n",
              "      <td>0.560776</td>\n",
              "      <td>-0.004160</td>\n",
              "    </tr>\n",
              "    <tr>\n",
              "      <th>W3</th>\n",
              "      <td>0.702518</td>\n",
              "      <td>0.685492</td>\n",
              "      <td>0.073205</td>\n",
              "      <td>0.599240</td>\n",
              "      <td>0.407287</td>\n",
              "      <td>0.239147</td>\n",
              "      <td>1.000000</td>\n",
              "      <td>0.636977</td>\n",
              "      <td>0.560931</td>\n",
              "      <td>0.561325</td>\n",
              "      <td>0.577656</td>\n",
              "      <td>-0.016690</td>\n",
              "    </tr>\n",
              "    <tr>\n",
              "      <th>W4</th>\n",
              "      <td>0.891100</td>\n",
              "      <td>0.656166</td>\n",
              "      <td>0.413815</td>\n",
              "      <td>0.651035</td>\n",
              "      <td>0.268123</td>\n",
              "      <td>0.663068</td>\n",
              "      <td>0.636977</td>\n",
              "      <td>1.000000</td>\n",
              "      <td>0.845498</td>\n",
              "      <td>0.710337</td>\n",
              "      <td>0.720484</td>\n",
              "      <td>0.012900</td>\n",
              "    </tr>\n",
              "    <tr>\n",
              "      <th>W5</th>\n",
              "      <td>0.866237</td>\n",
              "      <td>0.654255</td>\n",
              "      <td>0.376962</td>\n",
              "      <td>0.596483</td>\n",
              "      <td>0.281587</td>\n",
              "      <td>0.602302</td>\n",
              "      <td>0.560931</td>\n",
              "      <td>0.845498</td>\n",
              "      <td>1.000000</td>\n",
              "      <td>0.768382</td>\n",
              "      <td>0.725323</td>\n",
              "      <td>-0.018137</td>\n",
              "    </tr>\n",
              "    <tr>\n",
              "      <th>W6</th>\n",
              "      <td>0.848235</td>\n",
              "      <td>0.588087</td>\n",
              "      <td>0.439766</td>\n",
              "      <td>0.534730</td>\n",
              "      <td>0.264042</td>\n",
              "      <td>0.550079</td>\n",
              "      <td>0.561325</td>\n",
              "      <td>0.710337</td>\n",
              "      <td>0.768382</td>\n",
              "      <td>1.000000</td>\n",
              "      <td>0.775038</td>\n",
              "      <td>-0.010836</td>\n",
              "    </tr>\n",
              "    <tr>\n",
              "      <th>W7</th>\n",
              "      <td>0.897618</td>\n",
              "      <td>0.769404</td>\n",
              "      <td>0.261083</td>\n",
              "      <td>0.685390</td>\n",
              "      <td>0.291421</td>\n",
              "      <td>0.560776</td>\n",
              "      <td>0.577656</td>\n",
              "      <td>0.720484</td>\n",
              "      <td>0.725323</td>\n",
              "      <td>0.775038</td>\n",
              "      <td>1.000000</td>\n",
              "      <td>0.011450</td>\n",
              "    </tr>\n",
              "    <tr>\n",
              "      <th>GROUP</th>\n",
              "      <td>-0.003219</td>\n",
              "      <td>-0.051854</td>\n",
              "      <td>0.073404</td>\n",
              "      <td>-0.012705</td>\n",
              "      <td>-0.005864</td>\n",
              "      <td>-0.004160</td>\n",
              "      <td>-0.016690</td>\n",
              "      <td>0.012900</td>\n",
              "      <td>-0.018137</td>\n",
              "      <td>-0.010836</td>\n",
              "      <td>0.011450</td>\n",
              "      <td>1.000000</td>\n",
              "    </tr>\n",
              "  </tbody>\n",
              "</table>\n",
              "</div>"
            ],
            "text/plain": [
              "                  CC_area   CC_perimeter  ...        W7     GROUP\n",
              " CC_area         1.000000       0.787921  ...  0.897618 -0.003219\n",
              " CC_perimeter    0.787921       1.000000  ...  0.769404 -0.051854\n",
              " CC_circularity  0.388335      -0.251789  ...  0.261083  0.073404\n",
              " CC_length       0.710320       0.888800  ...  0.685390 -0.012705\n",
              " W1              0.365278       0.476855  ...  0.291421 -0.005864\n",
              " W2              0.741684       0.429769  ...  0.560776 -0.004160\n",
              " W3              0.702518       0.685492  ...  0.577656 -0.016690\n",
              " W4              0.891100       0.656166  ...  0.720484  0.012900\n",
              " W5              0.866237       0.654255  ...  0.725323 -0.018137\n",
              " W6              0.848235       0.588087  ...  0.775038 -0.010836\n",
              " W7              0.897618       0.769404  ...  1.000000  0.011450\n",
              "GROUP           -0.003219      -0.051854  ...  0.011450  1.000000\n",
              "\n",
              "[12 rows x 12 columns]"
            ]
          },
          "metadata": {
            "tags": []
          },
          "execution_count": 14
        }
      ]
    },
    {
      "cell_type": "code",
      "metadata": {
        "colab": {
          "base_uri": "https://localhost:8080/",
          "height": 512
        },
        "id": "7mIC3ihVFbMd",
        "outputId": "347fec0a-2ed7-4ae5-bc48-a2300d56f455"
      },
      "source": [
        "#visualize the data\n",
        "import matplotlib.pyplot as plt\n",
        "plt.figure(figsize=(7,7))\n",
        "sns.heatmap(df.corr(),annot=True,fmt='.0%')"
      ],
      "execution_count": null,
      "outputs": [
        {
          "output_type": "execute_result",
          "data": {
            "text/plain": [
              "<matplotlib.axes._subplots.AxesSubplot at 0x7f4dc29f09d0>"
            ]
          },
          "metadata": {
            "tags": []
          },
          "execution_count": 16
        },
        {
          "output_type": "display_data",
          "data": {
            "image/png": "[encoded data removed]",
            "text/plain": [
              "<Figure size 504x504 with 2 Axes>"
            ]
          },
          "metadata": {
            "tags": [],
            "needs_background": "light"
          }
        }
      ]
    },
    {
      "cell_type": "code",
      "metadata": {
        "id": "-Xxl4F70GBWd"
      },
      "source": [
        "#remove the id column\n",
        "df=df.drop('ID',axis=1)"
      ],
      "execution_count": null,
      "outputs": []
    },
    {
      "cell_type": "code",
      "metadata": {
        "id": "jAAeokFrG35S"
      },
      "source": [
        "#split the data into feature data and target data\n",
        "X=df.iloc[:, :-1].values\n",
        "Y=df.iloc[:, -1].values"
      ],
      "execution_count": null,
      "outputs": []
    },
    {
      "cell_type": "code",
      "metadata": {
        "id": "UB3sZNJsHaha"
      },
      "source": [
        "# split the data , into 75% training data set and 25% testing data set\n",
        "from sklearn.model_selection import train_test_split\n",
        "X_train,X_test,Y_train,Y_test=train_test_split(X,Y,test_size=0.25,random_state=1)"
      ],
      "execution_count": null,
      "outputs": []
    },
    {
      "cell_type": "code",
      "metadata": {
        "id": "p_JOOQitIUZO"
      },
      "source": [
        "#feature Scaling\n",
        "#scale the value in the data to be values between 0 and 1 inclusive\n",
        "from sklearn.preprocessing import StandardScaler\n",
        "sc=StandardScaler()\n",
        "X_train=sc.fit_transform(X_train)\n",
        "X_test=sc.fit_transform(X_test)"
      ],
      "execution_count": null,
      "outputs": []
    },
    {
      "cell_type": "code",
      "metadata": {
        "colab": {
          "base_uri": "https://localhost:8080/"
        },
        "id": "YKcBJWPXI3RC",
        "outputId": "effd07f4-291e-494f-d75b-5622f7b9bdc6"
      },
      "source": [
        "#use random forest classifier\n",
        "from sklearn.ensemble import RandomForestClassifier\n",
        "forest=RandomForestClassifier(n_estimators=10,criterion='entropy',random_state=1)\n",
        "forest.fit(X_train,Y_train)"
      ],
      "execution_count": null,
      "outputs": [
        {
          "output_type": "execute_result",
          "data": {
            "text/plain": [
              "RandomForestClassifier(bootstrap=True, ccp_alpha=0.0, class_weight=None,\n",
              "                       criterion='entropy', max_depth=None, max_features='auto',\n",
              "                       max_leaf_nodes=None, max_samples=None,\n",
              "                       min_impurity_decrease=0.0, min_impurity_split=None,\n",
              "                       min_samples_leaf=1, min_samples_split=2,\n",
              "                       min_weight_fraction_leaf=0.0, n_estimators=10,\n",
              "                       n_jobs=None, oob_score=False, random_state=1, verbose=0,\n",
              "                       warm_start=False)"
            ]
          },
          "metadata": {
            "tags": []
          },
          "execution_count": 22
        }
      ]
    },
    {
      "cell_type": "code",
      "metadata": {
        "colab": {
          "base_uri": "https://localhost:8080/"
        },
        "id": "JAVMd4AsJYA6",
        "outputId": "6aeb317b-ca91-4dab-87aa-9f7c54d2bf0a"
      },
      "source": [
        "#test the model accuracy on the training data set\n",
        "model=forest\n",
        "model.score(X_train,Y_train)"
      ],
      "execution_count": null,
      "outputs": [
        {
          "output_type": "execute_result",
          "data": {
            "text/plain": [
              "0.9842424242424243"
            ]
          },
          "metadata": {
            "tags": []
          },
          "execution_count": 23
        }
      ]
    },
    {
      "cell_type": "code",
      "metadata": {
        "colab": {
          "base_uri": "https://localhost:8080/"
        },
        "id": "VeLF8LpyJsSg",
        "outputId": "d32741ea-aab2-4794-a9eb-95e7cc7a7369"
      },
      "source": [
        "#test the models accuracy  on the test data set\n",
        "from sklearn.metrics import confusion_matrix\n",
        "cm=confusion_matrix(Y_test,model.predict(X_test))\n",
        "\n",
        "TN=cm[0][0]\n",
        "TP=cm[1][1]\n",
        "FN=cm[1][0]\n",
        "FP=cm[0][1]\n",
        "print('Model Test Accuracy ={}'.format((TP+TN)/(TP+TN+FN+FP)))"
      ],
      "execution_count": null,
      "outputs": [
        {
          "output_type": "stream",
          "text": [
            "Model Test Accuracyy =0.48\n"
          ],
          "name": "stdout"
        }
      ]
    },
    {
      "cell_type": "code",
      "metadata": {
        "id": "4y-ofmjJN1Zk"
      },
      "source": [
        "n_estimators=[int(x) for x in np.linspace(start=10, stop=80,num=10)]\n",
        "max_features=['auto','sqrt']\n",
        "max_depth=[2,4]\n",
        "min_samples_split=[2,5]\n",
        "min_samples_leaf=[1,2]\n",
        "bootstrap=[True,False]"
      ],
      "execution_count": null,
      "outputs": []
    },
    {
      "cell_type": "code",
      "metadata": {
        "colab": {
          "base_uri": "https://localhost:8080/"
        },
        "id": "OypG_rzYQOs3",
        "outputId": "d3660d89-5a37-4ecc-cda5-09a90a7abc99"
      },
      "source": [
        "param_grid={'n_estimators':n_estimators,\n",
        "            'max_features':max_features,\n",
        "            'max_depth':max_depth,\n",
        "            'min_samples_split':min_samples_split,\n",
        "            'min_samples_leaf':min_samples_leaf,\n",
        "            'bootstrap':bootstrap}\n",
        "print(param_grid)"
      ],
      "execution_count": null,
      "outputs": [
        {
          "output_type": "stream",
          "text": [
            "{'n_estimators': [10, 17, 25, 33, 41, 48, 56, 64, 72, 80], 'max_features': ['auto', 'sqrt'], 'max_depth': [2, 4], 'min_samples_split': [2, 5], 'min_samples_leaf': [1, 2], 'bootstrap': [True, False]}\n"
          ],
          "name": "stdout"
        }
      ]
    },
    {
      "cell_type": "code",
      "metadata": {
        "id": "Mp0YMBOYSsC6"
      },
      "source": [
        "rf_Model=RandomForestClassifier()"
      ],
      "execution_count": null,
      "outputs": []
    },
    {
      "cell_type": "code",
      "metadata": {
        "id": "YOIGEPb1S0kH"
      },
      "source": [
        "from sklearn.model_selection import GridSearchCV\n",
        "rf_Grid=GridSearchCV(estimator=rf_Model,param_grid=param_grid,cv=3,verbose=2,n_jobs=4)"
      ],
      "execution_count": null,
      "outputs": []
    },
    {
      "cell_type": "code",
      "metadata": {
        "colab": {
          "base_uri": "https://localhost:8080/"
        },
        "id": "sBtwodzTTYqm",
        "outputId": "827a4eb5-7a30-44e4-f98d-e5dae4feb652"
      },
      "source": [
        "rf_Grid.fit(X_train,Y_train)"
      ],
      "execution_count": null,
      "outputs": [
        {
          "output_type": "stream",
          "text": [
            "Fitting 3 folds for each of 320 candidates, totalling 960 fits\n"
          ],
          "name": "stdout"
        },
        {
          "output_type": "stream",
          "text": [
            "[Parallel(n_jobs=4)]: Using backend LokyBackend with 4 concurrent workers.\n",
            "[Parallel(n_jobs=4)]: Done  33 tasks      | elapsed:    3.0s\n",
            "[Parallel(n_jobs=4)]: Done 154 tasks      | elapsed:    9.1s\n",
            "[Parallel(n_jobs=4)]: Done 357 tasks      | elapsed:   20.3s\n",
            "[Parallel(n_jobs=4)]: Done 640 tasks      | elapsed:   33.9s\n",
            "[Parallel(n_jobs=4)]: Done 960 out of 960 | elapsed:   49.5s finished\n"
          ],
          "name": "stderr"
        },
        {
          "output_type": "execute_result",
          "data": {
            "text/plain": [
              "GridSearchCV(cv=3, error_score=nan,\n",
              "             estimator=RandomForestClassifier(bootstrap=True, ccp_alpha=0.0,\n",
              "                                              class_weight=None,\n",
              "                                              criterion='gini', max_depth=None,\n",
              "                                              max_features='auto',\n",
              "                                              max_leaf_nodes=None,\n",
              "                                              max_samples=None,\n",
              "                                              min_impurity_decrease=0.0,\n",
              "                                              min_impurity_split=None,\n",
              "                                              min_samples_leaf=1,\n",
              "                                              min_samples_split=2,\n",
              "                                              min_weight_fraction_leaf=0.0,\n",
              "                                              n_estimators=100, n_jobs=None,\n",
              "                                              oob_score=False,\n",
              "                                              random_state=None, verbose=0,\n",
              "                                              warm_start=False),\n",
              "             iid='deprecated', n_jobs=4,\n",
              "             param_grid={'bootstrap': [True, False], 'max_depth': [2, 4],\n",
              "                         'max_features': ['auto', 'sqrt'],\n",
              "                         'min_samples_leaf': [1, 2],\n",
              "                         'min_samples_split': [2, 5],\n",
              "                         'n_estimators': [10, 17, 25, 33, 41, 48, 56, 64, 72,\n",
              "                                          80]},\n",
              "             pre_dispatch='2*n_jobs', refit=True, return_train_score=False,\n",
              "             scoring=None, verbose=2)"
            ]
          },
          "metadata": {
            "tags": []
          },
          "execution_count": 35
        }
      ]
    },
    {
      "cell_type": "code",
      "metadata": {
        "colab": {
          "base_uri": "https://localhost:8080/"
        },
        "id": "AcnPX-vqTphR",
        "outputId": "fb748e96-5f69-46cf-89e5-8e639077326b"
      },
      "source": [
        "rf_Grid.best_params_"
      ],
      "execution_count": null,
      "outputs": [
        {
          "output_type": "execute_result",
          "data": {
            "text/plain": [
              "{'bootstrap': True,\n",
              " 'max_depth': 4,\n",
              " 'max_features': 'auto',\n",
              " 'min_samples_leaf': 1,\n",
              " 'min_samples_split': 2,\n",
              " 'n_estimators': 25}"
            ]
          },
          "metadata": {
            "tags": []
          },
          "execution_count": 36
        }
      ]
    },
    {
      "cell_type": "code",
      "metadata": {
        "colab": {
          "base_uri": "https://localhost:8080/"
        },
        "id": "Svr39tGBUBvw",
        "outputId": "7cc554ca-d87a-4f36-ab54-f0ce240d9b1c"
      },
      "source": [
        "print(f'Train accuracy - : {rf_Grid.score(X_train,Y_train):.3f}')\n",
        "print(f'Test accuracy - : {rf_Grid.score(X_test,Y_test):.3f}')"
      ],
      "execution_count": null,
      "outputs": [
        {
          "output_type": "stream",
          "text": [
            "Train accuracy - : 0.686\n",
            "Test accuracy - : 0.513\n"
          ],
          "name": "stdout"
        }
      ]
    }
  ]
}